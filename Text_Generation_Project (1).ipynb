{
 "cells": [
  {
   "cell_type": "code",
   "execution_count": 1,
   "metadata": {
    "executionInfo": {
     "elapsed": 1792,
     "status": "ok",
     "timestamp": 1621233446101,
     "user": {
      "displayName": "Ritvik Rohatgi",
      "photoUrl": "https://lh3.googleusercontent.com/a-/AOh14GjuvRB5OxEKpl2tZ0lmmlDQiv7yq5tX7tq2eZ7mAw=s64",
      "userId": "17932284308885880695"
     },
     "user_tz": -330
    },
    "id": "gyQPo5jyBlGz"
   },
   "outputs": [],
   "source": [
    "text = open('book.txt','r',encoding='utf8').read()\n",
    "text = text.lower()"
   ]
  },
  {
   "cell_type": "code",
   "execution_count": 2,
   "metadata": {
    "executionInfo": {
     "elapsed": 2439,
     "status": "ok",
     "timestamp": 1621233447212,
     "user": {
      "displayName": "Ritvik Rohatgi",
      "photoUrl": "https://lh3.googleusercontent.com/a-/AOh14GjuvRB5OxEKpl2tZ0lmmlDQiv7yq5tX7tq2eZ7mAw=s64",
      "userId": "17932284308885880695"
     },
     "user_tz": -330
    },
    "id": "1D8HMqaIB3HW"
   },
   "outputs": [],
   "source": [
    "# split whole text in list of sentences\n",
    "sentences = text.split('\\n')"
   ]
  },
  {
   "cell_type": "code",
   "execution_count": 3,
   "metadata": {
    "executionInfo": {
     "elapsed": 2743,
     "status": "ok",
     "timestamp": 1621233447955,
     "user": {
      "displayName": "Ritvik Rohatgi",
      "photoUrl": "https://lh3.googleusercontent.com/a-/AOh14GjuvRB5OxEKpl2tZ0lmmlDQiv7yq5tX7tq2eZ7mAw=s64",
      "userId": "17932284308885880695"
     },
     "user_tz": -330
    },
    "id": "tECPWvb3B5ZP"
   },
   "outputs": [],
   "source": [
    "import tensorflow as tf\n",
    "import keras\n",
    "from keras.preprocessing.text import Tokenizer\n",
    "from keras.preprocessing.sequence import pad_sequences"
   ]
  },
  {
   "cell_type": "code",
   "execution_count": 4,
   "metadata": {
    "executionInfo": {
     "elapsed": 2338,
     "status": "ok",
     "timestamp": 1621233447956,
     "user": {
      "displayName": "Ritvik Rohatgi",
      "photoUrl": "https://lh3.googleusercontent.com/a-/AOh14GjuvRB5OxEKpl2tZ0lmmlDQiv7yq5tX7tq2eZ7mAw=s64",
      "userId": "17932284308885880695"
     },
     "user_tz": -330
    },
    "id": "xo36oXWdB8GH"
   },
   "outputs": [],
   "source": [
    "# now we are going to tokenize our text data i.e sentences which mean we are going to assign every word a unique integer\n",
    "# so to do that first we have to declare object of tokenizer\n",
    "\n",
    "# their are several argument we cann pass in tokenizer but we only make oov_token = <UNK> (unknown)\n",
    "# we use this as may be their are several word in data which are not present in our vocbulary(dictionary words from text)\n",
    "# so if we didn't pass it skip those word as its default value is NONE so we initialize it as unknown\n",
    "\n",
    "tokenizer = Tokenizer(oov_token='<UNK>')\n",
    "\n"
   ]
  },
  {
   "cell_type": "code",
   "execution_count": 5,
   "metadata": {
    "executionInfo": {
     "elapsed": 1923,
     "status": "ok",
     "timestamp": 1621233447957,
     "user": {
      "displayName": "Ritvik Rohatgi",
      "photoUrl": "https://lh3.googleusercontent.com/a-/AOh14GjuvRB5OxEKpl2tZ0lmmlDQiv7yq5tX7tq2eZ7mAw=s64",
      "userId": "17932284308885880695"
     },
     "user_tz": -330
    },
    "id": "UrEmBNsrB-pV"
   },
   "outputs": [],
   "source": [
    "tokenizer.fit_on_texts(sentences)\n"
   ]
  },
  {
   "cell_type": "code",
   "execution_count": 6,
   "metadata": {
    "colab": {
     "base_uri": "https://localhost:8080/"
    },
    "executionInfo": {
     "elapsed": 1411,
     "status": "ok",
     "timestamp": 1621233447958,
     "user": {
      "displayName": "Ritvik Rohatgi",
      "photoUrl": "https://lh3.googleusercontent.com/a-/AOh14GjuvRB5OxEKpl2tZ0lmmlDQiv7yq5tX7tq2eZ7mAw=s64",
      "userId": "17932284308885880695"
     },
     "user_tz": -330
    },
    "id": "D0fMQehfCBLS",
    "outputId": "4c548652-5ccd-4b18-b3c4-beae6fb0efa4"
   },
   "outputs": [
    {
     "data": {
      "text/plain": [
       "8933"
      ]
     },
     "execution_count": 6,
     "metadata": {
      "tags": []
     },
     "output_type": "execute_result"
    }
   ],
   "source": [
    "vocab_size = len(tokenizer.word_index)+1\n",
    "vocab_size"
   ]
  },
  {
   "cell_type": "code",
   "execution_count": 7,
   "metadata": {
    "executionInfo": {
     "elapsed": 929,
     "status": "ok",
     "timestamp": 1621233449866,
     "user": {
      "displayName": "Ritvik Rohatgi",
      "photoUrl": "https://lh3.googleusercontent.com/a-/AOh14GjuvRB5OxEKpl2tZ0lmmlDQiv7yq5tX7tq2eZ7mAw=s64",
      "userId": "17932284308885880695"
     },
     "user_tz": -330
    },
    "id": "3JZTj4_dCEbS"
   },
   "outputs": [],
   "source": [
    "# now we will convert our sentences into integr sequences i.e for every sentence it going to replace word in sentence with corresponding \n",
    "# integer value that we get through fit_on_text function\n",
    "\n",
    "sequences = tokenizer.texts_to_sequences(sentences)\n"
   ]
  },
  {
   "cell_type": "code",
   "execution_count": 8,
   "metadata": {
    "colab": {
     "base_uri": "https://localhost:8080/"
    },
    "executionInfo": {
     "elapsed": 1588,
     "status": "ok",
     "timestamp": 1621233453755,
     "user": {
      "displayName": "Ritvik Rohatgi",
      "photoUrl": "https://lh3.googleusercontent.com/a-/AOh14GjuvRB5OxEKpl2tZ0lmmlDQiv7yq5tX7tq2eZ7mAw=s64",
      "userId": "17932284308885880695"
     },
     "user_tz": -330
    },
    "id": "2z1iNgH6CKPs",
    "outputId": "08cb3130-e9c2-4791-dcce-347885e8d9a7"
   },
   "outputs": [
    {
     "name": "stdout",
     "output_type": "stream",
     "text": [
      "[146, 4790]\n",
      "[146, 4790, 2]\n"
     ]
    }
   ],
   "source": [
    "# now we convert our sequences into n-gram sequences\n",
    "# for ex we have sequence as [1,3,21,5,6]\n",
    "# so with this we can make more sequences as [1,3],[1,3,21],[1,3,21,5],[1,3,21,5,6] (we keep min two word as one sequences)\n",
    "input_sequences = []\n",
    "for sq in sequences:\n",
    "  for i in range(1,len(sq)):\n",
    "    n_gram_sequence = sq[:i+1]\n",
    "    input_sequences.append(n_gram_sequence)\n",
    "\n",
    "# lets print first two sequences\n",
    "print(input_sequences[0])\n",
    "print(input_sequences[1])\n",
    "\n",
    "\n"
   ]
  },
  {
   "cell_type": "code",
   "execution_count": 9,
   "metadata": {
    "colab": {
     "base_uri": "https://localhost:8080/"
    },
    "executionInfo": {
     "elapsed": 1499,
     "status": "ok",
     "timestamp": 1621233458274,
     "user": {
      "displayName": "Ritvik Rohatgi",
      "photoUrl": "https://lh3.googleusercontent.com/a-/AOh14GjuvRB5OxEKpl2tZ0lmmlDQiv7yq5tX7tq2eZ7mAw=s64",
      "userId": "17932284308885880695"
     },
     "user_tz": -330
    },
    "id": "SBdsdRqxCMzl",
    "outputId": "86ef66ac-5ad7-422d-92a0-43d787c1d7a2"
   },
   "outputs": [
    {
     "data": {
      "text/plain": [
       "20"
      ]
     },
     "execution_count": 9,
     "metadata": {
      "tags": []
     },
     "output_type": "execute_result"
    }
   ],
   "source": [
    "# now we are going to pad our sequence because a we are going to use RNN in our project and it require input of same length\n",
    "# so what padding does it make make all sequence of same length by adding required no. of 0 in front of orginal seuence\n",
    "\n",
    "# for example we have [124,470] and in our data we have max length of sequence is 5 so it will convert it into [0,0,0,146,4790]\n",
    "\n",
    "# so first we find maxlength\n",
    "max_length = max([len(sq) for sq in input_sequences])\n",
    "max_length"
   ]
  },
  {
   "cell_type": "code",
   "execution_count": 10,
   "metadata": {
    "colab": {
     "base_uri": "https://localhost:8080/"
    },
    "executionInfo": {
     "elapsed": 1619,
     "status": "ok",
     "timestamp": 1621233469643,
     "user": {
      "displayName": "Ritvik Rohatgi",
      "photoUrl": "https://lh3.googleusercontent.com/a-/AOh14GjuvRB5OxEKpl2tZ0lmmlDQiv7yq5tX7tq2eZ7mAw=s64",
      "userId": "17932284308885880695"
     },
     "user_tz": -330
    },
    "id": "0-GBi2xxCWLj",
    "outputId": "093e980e-1446-4c66-c52f-57b806bf2a4d"
   },
   "outputs": [
    {
     "name": "stdout",
     "output_type": "stream",
     "text": [
      "[   0    0    0    0    0    0    0    0    0    0    0    0    0    0\n",
      "    0    0    0    0  146 4790]\n",
      "[   0    0    0    0    0    0    0    0    0    0    0    0    0    0\n",
      "    0    0    0  146 4790    2]\n"
     ]
    }
   ],
   "source": [
    "padded_sequences = pad_sequences(input_sequences,max_length)\n",
    "print(padded_sequences[0])\n",
    "print(padded_sequences[1])"
   ]
  },
  {
   "cell_type": "code",
   "execution_count": 11,
   "metadata": {
    "executionInfo": {
     "elapsed": 1507,
     "status": "ok",
     "timestamp": 1621233481557,
     "user": {
      "displayName": "Ritvik Rohatgi",
      "photoUrl": "https://lh3.googleusercontent.com/a-/AOh14GjuvRB5OxEKpl2tZ0lmmlDQiv7yq5tX7tq2eZ7mAw=s64",
      "userId": "17932284308885880695"
     },
     "user_tz": -330
    },
    "id": "BfEKwFjVC4JN"
   },
   "outputs": [],
   "source": [
    "# lets covert or padded sequences into numpy arry for easy computation\n",
    "import numpy as np\n",
    "padded_sequences = np.array(padded_sequences)"
   ]
  },
  {
   "cell_type": "code",
   "execution_count": 12,
   "metadata": {
    "executionInfo": {
     "elapsed": 1410,
     "status": "ok",
     "timestamp": 1621233491144,
     "user": {
      "displayName": "Ritvik Rohatgi",
      "photoUrl": "https://lh3.googleusercontent.com/a-/AOh14GjuvRB5OxEKpl2tZ0lmmlDQiv7yq5tX7tq2eZ7mAw=s64",
      "userId": "17932284308885880695"
     },
     "user_tz": -330
    },
    "id": "TEZjC394C7FS"
   },
   "outputs": [],
   "source": [
    "# now we are going to make our input output pair or data \n",
    "# so for that what we do as we have have sequences of len 20 we kept 19 as input data and the last one as output data\n",
    "# basic idea is we have some text sentence and we can predict what is the next word\n",
    "\n",
    "x= padded_sequences[:,:-1] # i.e all row and column(expect last one)\n",
    "labels=padded_sequences[:,-1]"
   ]
  },
  {
   "cell_type": "code",
   "execution_count": 13,
   "metadata": {
    "executionInfo": {
     "elapsed": 3944,
     "status": "ok",
     "timestamp": 1621233507266,
     "user": {
      "displayName": "Ritvik Rohatgi",
      "photoUrl": "https://lh3.googleusercontent.com/a-/AOh14GjuvRB5OxEKpl2tZ0lmmlDQiv7yq5tX7tq2eZ7mAw=s64",
      "userId": "17932284308885880695"
     },
     "user_tz": -330
    },
    "id": "7i5f0_JXC9cr"
   },
   "outputs": [],
   "source": [
    "# since in this we are going to predict next word from some given word so basicall it is a kind of classification problem\n",
    "# so we convert our label data into one hot encoded format as it is the requirment of neural networks\n",
    "\n",
    "y=tf.keras.utils.to_categorical(labels, num_classes=vocab_size)"
   ]
  },
  {
   "cell_type": "code",
   "execution_count": 14,
   "metadata": {
    "colab": {
     "base_uri": "https://localhost:8080/"
    },
    "executionInfo": {
     "elapsed": 1802,
     "status": "ok",
     "timestamp": 1621233517157,
     "user": {
      "displayName": "Ritvik Rohatgi",
      "photoUrl": "https://lh3.googleusercontent.com/a-/AOh14GjuvRB5OxEKpl2tZ0lmmlDQiv7yq5tX7tq2eZ7mAw=s64",
      "userId": "17932284308885880695"
     },
     "user_tz": -330
    },
    "id": "e_vYhAjGDAw-",
    "outputId": "5361f5db-20f9-4c86-dc79-efc9cff6f091"
   },
   "outputs": [
    {
     "data": {
      "text/plain": [
       "(101619, 19)"
      ]
     },
     "execution_count": 14,
     "metadata": {
      "tags": []
     },
     "output_type": "execute_result"
    }
   ],
   "source": [
    "x.shape"
   ]
  },
  {
   "cell_type": "code",
   "execution_count": 15,
   "metadata": {
    "colab": {
     "base_uri": "https://localhost:8080/"
    },
    "executionInfo": {
     "elapsed": 1748,
     "status": "ok",
     "timestamp": 1621233525728,
     "user": {
      "displayName": "Ritvik Rohatgi",
      "photoUrl": "https://lh3.googleusercontent.com/a-/AOh14GjuvRB5OxEKpl2tZ0lmmlDQiv7yq5tX7tq2eZ7mAw=s64",
      "userId": "17932284308885880695"
     },
     "user_tz": -330
    },
    "id": "DRRzhwcRDDs7",
    "outputId": "94f35c87-7fe7-4faf-ecfa-5dd74a03cdf9"
   },
   "outputs": [
    {
     "data": {
      "text/plain": [
       "(101619, 8933)"
      ]
     },
     "execution_count": 15,
     "metadata": {
      "tags": []
     },
     "output_type": "execute_result"
    }
   ],
   "source": [
    "y.shape"
   ]
  },
  {
   "cell_type": "code",
   "execution_count": 17,
   "metadata": {
    "executionInfo": {
     "elapsed": 1855,
     "status": "ok",
     "timestamp": 1621234300790,
     "user": {
      "displayName": "Ritvik Rohatgi",
      "photoUrl": "https://lh3.googleusercontent.com/a-/AOh14GjuvRB5OxEKpl2tZ0lmmlDQiv7yq5tX7tq2eZ7mAw=s64",
      "userId": "17932284308885880695"
     },
     "user_tz": -330
    },
    "id": "kbPvtTd6DFzw"
   },
   "outputs": [],
   "source": [
    "# import necessary library\n",
    "from tensorflow.keras.models import Sequential\n",
    "from tensorflow.keras.layers import Embedding,Bidirectional,LSTM,Dense\n",
    "from tensorflow.keras.optimizers import Adam"
   ]
  },
  {
   "cell_type": "code",
   "execution_count": 20,
   "metadata": {
    "colab": {
     "base_uri": "https://localhost:8080/"
    },
    "executionInfo": {
     "elapsed": 1600,
     "status": "ok",
     "timestamp": 1621234681976,
     "user": {
      "displayName": "Ritvik Rohatgi",
      "photoUrl": "https://lh3.googleusercontent.com/a-/AOh14GjuvRB5OxEKpl2tZ0lmmlDQiv7yq5tX7tq2eZ7mAw=s64",
      "userId": "17932284308885880695"
     },
     "user_tz": -330
    },
    "id": "tscYTg4AF8qZ",
    "outputId": "8782d4ef-de78-4570-c2b0-065de4f268ee"
   },
   "outputs": [
    {
     "name": "stdout",
     "output_type": "stream",
     "text": [
      "Model: \"sequential_1\"\n",
      "_________________________________________________________________\n",
      "Layer (type)                 Output Shape              Param #   \n",
      "=================================================================\n",
      "embedding_1 (Embedding)      (None, 19, 100)           893300    \n",
      "_________________________________________________________________\n",
      "bidirectional_1 (Bidirection (None, 512)               731136    \n",
      "_________________________________________________________________\n",
      "dense_1 (Dense)              (None, 8933)              4582629   \n",
      "=================================================================\n",
      "Total params: 6,207,065\n",
      "Trainable params: 6,207,065\n",
      "Non-trainable params: 0\n",
      "_________________________________________________________________\n"
     ]
    }
   ],
   "source": [
    "# define and compile the model\n",
    "model = Sequential()\n",
    "model.add(Embedding(vocab_size,100,input_length=max_length-1))\n",
    "model.add(Bidirectional(LSTM(256)))\n",
    "model.add(Dense(vocab_size,activation='softmax'))\n",
    "adam = Adam(learning_rate=0.01)\n",
    "model.compile(loss='categorical_crossentropy',optimizer=adam,metrics = ['acc'])\n",
    "model.summary()"
   ]
  },
  {
   "cell_type": "code",
   "execution_count": 21,
   "metadata": {
    "executionInfo": {
     "elapsed": 3364,
     "status": "ok",
     "timestamp": 1621235075321,
     "user": {
      "displayName": "Ritvik Rohatgi",
      "photoUrl": "https://lh3.googleusercontent.com/a-/AOh14GjuvRB5OxEKpl2tZ0lmmlDQiv7yq5tX7tq2eZ7mAw=s64",
      "userId": "17932284308885880695"
     },
     "user_tz": -330
    },
    "id": "o-yZZ5wXHWEt"
   },
   "outputs": [],
   "source": [
    "# initialize the callback function to early stop the training of data if their is not atleast 1% improvment in accuracy\n",
    "from tensorflow.keras.callbacks import EarlyStopping\n",
    "es = EarlyStopping(monitor ='acc',min_delta=0.01) "
   ]
  },
  {
   "cell_type": "code",
   "execution_count": 22,
   "metadata": {
    "colab": {
     "base_uri": "https://localhost:8080/"
    },
    "executionInfo": {
     "elapsed": 190577,
     "status": "ok",
     "timestamp": 1621235332271,
     "user": {
      "displayName": "Ritvik Rohatgi",
      "photoUrl": "https://lh3.googleusercontent.com/a-/AOh14GjuvRB5OxEKpl2tZ0lmmlDQiv7yq5tX7tq2eZ7mAw=s64",
      "userId": "17932284308885880695"
     },
     "user_tz": -330
    },
    "id": "f3PUSeXvI_uo",
    "outputId": "83fbcbce-c9cd-4225-f757-2b81b3fc5ac7"
   },
   "outputs": [
    {
     "name": "stdout",
     "output_type": "stream",
     "text": [
      "Epoch 1/50\n",
      "199/199 [==============================] - 40s 42ms/step - loss: 6.6591 - acc: 0.0605\n",
      "Epoch 2/50\n",
      "199/199 [==============================] - 8s 41ms/step - loss: 5.2990 - acc: 0.1409\n",
      "Epoch 3/50\n",
      "199/199 [==============================] - 8s 41ms/step - loss: 4.6660 - acc: 0.1766\n",
      "Epoch 4/50\n",
      "199/199 [==============================] - 8s 42ms/step - loss: 4.0851 - acc: 0.2122\n",
      "Epoch 5/50\n",
      "199/199 [==============================] - 8s 42ms/step - loss: 3.5529 - acc: 0.2658\n",
      "Epoch 6/50\n",
      "199/199 [==============================] - 8s 42ms/step - loss: 3.1028 - acc: 0.3242\n",
      "Epoch 7/50\n",
      "199/199 [==============================] - 8s 42ms/step - loss: 2.7155 - acc: 0.3855\n",
      "Epoch 8/50\n",
      "199/199 [==============================] - 8s 42ms/step - loss: 2.4045 - acc: 0.4387\n",
      "Epoch 9/50\n",
      "199/199 [==============================] - 8s 42ms/step - loss: 2.2014 - acc: 0.4779\n",
      "Epoch 10/50\n",
      "199/199 [==============================] - 8s 42ms/step - loss: 1.9904 - acc: 0.5218\n",
      "Epoch 11/50\n",
      "199/199 [==============================] - 8s 41ms/step - loss: 1.8249 - acc: 0.5534\n",
      "Epoch 12/50\n",
      "199/199 [==============================] - 8s 42ms/step - loss: 1.7073 - acc: 0.5767\n",
      "Epoch 13/50\n",
      "199/199 [==============================] - 8s 42ms/step - loss: 1.6152 - acc: 0.5944\n",
      "Epoch 14/50\n",
      "199/199 [==============================] - 8s 42ms/step - loss: 1.5204 - acc: 0.6132\n",
      "Epoch 15/50\n",
      "199/199 [==============================] - 8s 42ms/step - loss: 1.4603 - acc: 0.6274\n",
      "Epoch 16/50\n",
      "199/199 [==============================] - 8s 42ms/step - loss: 1.4076 - acc: 0.6370\n",
      "Epoch 17/50\n",
      "199/199 [==============================] - 9s 44ms/step - loss: 1.3519 - acc: 0.6489\n",
      "Epoch 18/50\n",
      "199/199 [==============================] - 9s 43ms/step - loss: 1.3271 - acc: 0.6550\n"
     ]
    },
    {
     "data": {
      "text/plain": [
       "<tensorflow.python.keras.callbacks.History at 0x7f4f20223710>"
      ]
     },
     "execution_count": 22,
     "metadata": {
      "tags": []
     },
     "output_type": "execute_result"
    }
   ],
   "source": [
    "model.fit(x,y,epochs=50,verbose=1,batch_size=512,callbacks=[es])"
   ]
  },
  {
   "cell_type": "code",
   "execution_count": 27,
   "metadata": {
    "colab": {
     "base_uri": "https://localhost:8080/"
    },
    "executionInfo": {
     "elapsed": 3585,
     "status": "ok",
     "timestamp": 1621236245138,
     "user": {
      "displayName": "Ritvik Rohatgi",
      "photoUrl": "https://lh3.googleusercontent.com/a-/AOh14GjuvRB5OxEKpl2tZ0lmmlDQiv7yq5tX7tq2eZ7mAw=s64",
      "userId": "17932284308885880695"
     },
     "user_tz": -330
    },
    "id": "-tH-rlHVJQwi",
    "outputId": "c49dbb4d-745d-4368-9de1-63c3b06440d6"
   },
   "outputs": [
    {
     "name": "stdout",
     "output_type": "stream",
     "text": [
      " I warned you about this thing and i have been waiting in the same state of affairs rather roughly the man who had written the note itself handed so far as it bore a little you or have the worst of all the proofs our little to him ” i remarked “that homely as usual as she\n"
     ]
    }
   ],
   "source": [
    "# time for story telling or prediction\n",
    "seed_text = \" I warned you about this thing and\"\n",
    "next_words = 50\n",
    "for _ in range(next_words):\n",
    "  sequence = tokenizer.texts_to_sequences([seed_text])\n",
    "  padded = pad_sequences(sequence,maxlen=max_length-1)\n",
    "  predicted = np.argmax(model.predict(padded,verbose=0),axis=1)\n",
    "  output_word =''\n",
    "  for word,index in tokenizer.word_index.items():\n",
    "    if index==predicted:\n",
    "      output_word = word\n",
    "      break\n",
    "  seed_text += ' ' + output_word\n",
    "print(seed_text)\n"
   ]
  },
  {
   "cell_type": "code",
   "execution_count": null,
   "metadata": {
    "colab": {
     "base_uri": "https://localhost:8080/",
     "height": 69
    },
    "executionInfo": {
     "elapsed": 1559,
     "status": "ok",
     "timestamp": 1621236994850,
     "user": {
      "displayName": "Ritvik Rohatgi",
      "photoUrl": "https://lh3.googleusercontent.com/a-/AOh14GjuvRB5OxEKpl2tZ0lmmlDQiv7yq5tX7tq2eZ7mAw=s64",
      "userId": "17932284308885880695"
     },
     "user_tz": -330
    },
    "id": "YOnag1hcM3Ui",
    "outputId": "476db46e-68cc-4f85-8101-ac5001d941b6"
   },
   "outputs": [],
   "source": []
  },
  {
   "cell_type": "code",
   "execution_count": null,
   "metadata": {
    "id": "mgjvhfYiOwk5"
   },
   "outputs": [],
   "source": []
  }
 ],
 "metadata": {
  "accelerator": "GPU",
  "colab": {
   "authorship_tag": "ABX9TyPFuAOe1raHQkMih+MS7TiE",
   "collapsed_sections": [],
   "name": "Text_Generation_Project.ipynb",
   "provenance": []
  },
  "kernelspec": {
   "display_name": "Python 3",
   "language": "python",
   "name": "python3"
  },
  "language_info": {
   "codemirror_mode": {
    "name": "ipython",
    "version": 3
   },
   "file_extension": ".py",
   "mimetype": "text/x-python",
   "name": "python",
   "nbconvert_exporter": "python",
   "pygments_lexer": "ipython3",
   "version": "3.7.4"
  }
 },
 "nbformat": 4,
 "nbformat_minor": 1
}
